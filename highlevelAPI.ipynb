{
 "cells": [
  {
   "cell_type": "code",
   "execution_count": 17,
   "metadata": {},
   "outputs": [],
   "source": [
    "from sagemaker import get_execution_role\n",
    "\n",
    "role=get_execution_role()\n",
    "bucket = 'dongaws'"
   ]
  },
  {
   "cell_type": "code",
   "execution_count": 18,
   "metadata": {},
   "outputs": [
    {
     "name": "stdout",
     "output_type": "stream",
     "text": [
      "CPU times: user 748 ms, sys: 265 ms, total: 1.01 s\n",
      "Wall time: 1.01 s\n"
     ]
    }
   ],
   "source": [
    "%%time\n",
    "import pickle, gzip, numpy, urllib.request, json\n",
    "\n",
    "#urllib.request.urlretrieve('http://deeplearning.net/data/mnist/mnist.pkl.gz','mnist.pkl.gz')\n",
    "\n",
    "with gzip.open('mnist.pkl.gz') as f:\n",
    "    train_set,valid_set,test_set=pickle.load(f,encoding='latin1')"
   ]
  },
  {
   "cell_type": "code",
   "execution_count": 19,
   "metadata": {},
   "outputs": [
    {
     "data": {
      "image/png": "[encoded data removed]",
      "text/plain": [
       "<Figure size 144x720 with 1 Axes>"
      ]
     },
     "metadata": {},
     "output_type": "display_data"
    }
   ],
   "source": [
    "%matplotlib inline\n",
    "import matplotlib.pyplot as plt\n",
    "plt.rcParams['figure.figsize']=(2,10)\n",
    "\n",
    "def show_img(img,caption='',subplot=None):\n",
    "    if subplot==None:\n",
    "        _,subplot = plt.subplots(1,1)\n",
    "    img=img.reshape((28,28))\n",
    "    subplot.axis('off')\n",
    "    subplot.imshow(img,cmap='gray')\n",
    "    plt.title(caption)\n",
    "show_img(train_set[0][30],'this is {}'.format(train_set[1][30]))"
   ]
  },
  {
   "cell_type": "code",
   "execution_count": 22,
   "metadata": {},
   "outputs": [
    {
     "name": "stdout",
     "output_type": "stream",
     "text": [
      "training data will be uploaded to: s3://dongaws/kmeans_highlevel_example/data\n",
      "training artifacts will be uploaded to: s3://dongaws/kmeans_highlevel_example/output\n"
     ]
    }
   ],
   "source": [
    "from sagemaker import KMeans\n",
    "\n",
    "data_location = 's3://{}/kmeans_highlevel_example/data'.format(bucket)\n",
    "output_location = 's3://{}/kmeans_highlevel_example/output'.format(bucket)\n",
    "\n",
    "print('training data will be uploaded to: {}'.format(data_location))\n",
    "print('training artifacts will be uploaded to: {}'.format(output_location))\n",
    "\n",
    "\n",
    "kmeans = KMeans(role=role,\n",
    "                train_instance_count=2,\n",
    "                train_instance_type='ml.c4.8xlarge',\n",
    "                output_path=output_location,\n",
    "                k=10,\n",
    "                data_location=data_location\n",
    "               )\n"
   ]
  },
  {
   "cell_type": "code",
   "execution_count": 23,
   "metadata": {},
   "outputs": [
    {
     "name": "stderr",
     "output_type": "stream",
     "text": [
      "INFO:sagemaker:Creating training-job with name: kmeans-2018-11-25-00-28-23-779\n"
     ]
    },
    {
     "name": "stdout",
     "output_type": "stream",
     "text": [
      "2018-11-25 00:28:23 Starting - Starting the training job...\n",
      "2018-11-25 00:28:35 Starting - Launching requested ML instances......\n",
      "2018-11-25 00:29:39 Starting - Preparing the instances for training.........\n",
      "2018-11-25 00:31:20 Downloading - Downloading input data\n",
      "2018-11-25 00:31:20 Training - Training image download completed. Training in progress.\n",
      "\u001b[31mDocker entrypoint called with argument(s): train\u001b[0m\n",
      "\u001b[31m[11/25/2018 00:31:22 INFO 140293156546368] Reading default configuration from /opt/amazon/lib/python2.7/site-packages/algorithm/resources/default-input.json: {u'_tuning_objective_metric': u'', u'_num_gpus': u'auto', u'local_lloyd_num_trials': u'auto', u'_log_level': u'info', u'_kvstore': u'auto', u'local_lloyd_init_method': u'kmeans++', u'force_dense': u'true', u'epochs': u'1', u'init_method': u'random', u'local_lloyd_tol': u'0.0001', u'local_lloyd_max_iter': u'300', u'_disable_wait_to_read': u'false', u'extra_center_factor': u'auto', u'eval_metrics': u'[\"msd\"]', u'_num_kv_servers': u'1', u'mini_batch_size': u'5000', u'half_life_time_size': u'0', u'_num_slices': u'1'}\u001b[0m\n",
      "\u001b[31m[11/25/2018 00:31:22 INFO 140293156546368] Reading provided configuration from /opt/ml/input/config/hyperparameters.json: {u'feature_dim': u'784', u'k': u'10', u'force_dense': u'True'}\u001b[0m\n",
      "\u001b[31m[11/25/2018 00:31:22 INFO 140293156546368] Final configuration: {u'k': u'10', u'_tuning_objective_metric': u'', u'_num_gpus': u'auto', u'local_lloyd_num_trials': u'auto', u'_log_level': u'info', u'_kvstore': u'auto', u'local_lloyd_init_method': u'kmeans++', u'force_dense': u'True', u'epochs': u'1', u'init_method': u'random', u'feature_dim': u'784', u'local_lloyd_tol': u'0.0001', u'local_lloyd_max_iter': u'300', u'_disable_wait_to_read': u'false', u'extra_center_factor': u'auto', u'eval_metrics': u'[\"msd\"]', u'_num_kv_servers': u'1', u'mini_batch_size': u'5000', u'half_life_time_size': u'0', u'_num_slices': u'1'}\u001b[0m\n",
      "\u001b[31m[11/25/2018 00:31:22 WARNING 140293156546368] Loggers have already been setup.\u001b[0m\n",
      "\u001b[31m[11/25/2018 00:31:22 INFO 140293156546368] Environment: {'ECS_CONTAINER_METADATA_URI': 'http://169.254.170.2/v3/433e007d-82b3-4b42-9637-02f5c36f5a07', 'PROTOCOL_BUFFERS_PYTHON_IMPLEMENTATION_VERSION': '2', 'DMLC_PS_ROOT_PORT': '9000', 'DMLC_NUM_WORKER': '2', 'SAGEMAKER_HTTP_PORT': '8080', 'PATH': '/opt/amazon/bin:/usr/local/nvidia/bin:/usr/local/sbin:/usr/local/bin:/usr/sbin:/usr/bin:/sbin:/bin:/opt/amazon/bin:/opt/amazon/bin', 'PYTHONUNBUFFERED': 'TRUE', 'CANONICAL_ENVROOT': '/opt/amazon', 'LD_LIBRARY_PATH': '/usr/local/nvidia/lib64:/opt/amazon/lib', 'MXNET_KVSTORE_BIGARRAY_BOUND': '400000000', 'LANG': 'en_US.utf8', 'DMLC_INTERFACE': 'ethwe', 'SHLVL': '1', 'DMLC_PS_ROOT_URI': '10.40.0.4', 'AWS_REGION': 'ap-southeast-2', 'NVIDIA_VISIBLE_DEVICES': 'all', 'TRAINING_JOB_NAME': 'kmeans-2018-11-25-00-28-23-779', 'HOME': '/root', 'PROTOCOL_BUFFERS_PYTHON_IMPLEMENTATION': 'cpp', 'ENVROOT': '/opt/amazon', 'SAGEMAKER_DATA_PATH': '/opt/ml', 'NVIDIA_DRIVER_CAPABILITIES': 'compute,utility', 'NVIDIA_REQUIRE_CUDA': 'cuda>=9.0', 'OMP_NUM_THREADS': '18', 'HOSTNAME': 'aws', 'AWS_CONTAINER_CREDENTIALS_RELATIVE_URI': '/v2/credentials/7d806453-c76f-44d3-b92b-9e6b3f3c2391', 'DMLC_ROLE': 'worker', 'PWD': '/', 'DMLC_NUM_SERVER': '1', 'AWS_EXECUTION_ENV': 'AWS_ECS_EC2'}\u001b[0m\n",
      "\u001b[31mProcess 1 is a worker.\u001b[0m\n",
      "\u001b[31m[11/25/2018 00:31:22 INFO 140293156546368] Using default worker.\u001b[0m\n",
      "\u001b[31m[11/25/2018 00:31:22 INFO 140293156546368] Loaded iterator creator application/x-recordio-protobuf for content type ('application/x-recordio-protobuf', '1.0')\u001b[0m\n",
      "\u001b[31m[11/25/2018 00:31:22 INFO 140293156546368] Create Store: dist_async\u001b[0m\n",
      "\u001b[31m[11/25/2018 00:31:23 INFO 140293156546368] nvidia-smi took: 0.0252230167389 secs to identify 0 gpus\u001b[0m\n",
      "\u001b[31m[11/25/2018 00:31:23 INFO 140293156546368] Number of GPUs being used: 0\u001b[0m\n",
      "\u001b[31m[2018-11-25 00:31:23.384] [tensorio] [info] batch={\"data_pipeline\": \"/opt/ml/input/data/train\", \"num_examples\": 5000, \"features\": [{\"name\": \"values\", \"shape\": [784], \"storage_type\": \"dense\"}]}\u001b[0m\n",
      "\u001b[31m[11/25/2018 00:31:23 INFO 140293156546368] Setting up with params: {u'k': u'10', u'_tuning_objective_metric': u'', u'_num_gpus': u'auto', u'local_lloyd_num_trials': u'auto', u'_log_level': u'info', u'_kvstore': u'auto', u'local_lloyd_init_method': u'kmeans++', u'force_dense': u'True', u'epochs': u'1', u'init_method': u'random', u'feature_dim': u'784', u'local_lloyd_tol': u'0.0001', u'local_lloyd_max_iter': u'300', u'_disable_wait_to_read': u'false', u'extra_center_factor': u'auto', u'eval_metrics': u'[\"msd\"]', u'_num_kv_servers': u'1', u'mini_batch_size': u'5000', u'half_life_time_size': u'0', u'_num_slices': u'1'}\u001b[0m\n",
      "\u001b[31m/opt/amazon/lib/python2.7/site-packages/ai_algorithms_sdk/config/config_helper.py:172: DeprecationWarning: deprecated\n",
      "  warnings.warn(\"deprecated\", DeprecationWarning)\u001b[0m\n",
      "\u001b[31m/opt/amazon/lib/python2.7/site-packages/ai_algorithms_sdk/config/config_helper.py:122: DeprecationWarning: deprecated\n",
      "  warnings.warn(\"deprecated\", DeprecationWarning)\u001b[0m\n",
      "\u001b[31m[11/25/2018 00:31:23 INFO 140293156546368] Number of GPUs being used: 0\u001b[0m\n",
      "\u001b[31m[11/25/2018 00:31:23 INFO 140293156546368] number of center slices 1\u001b[0m\n",
      "\u001b[31m#metrics {\"Metrics\": {\"Max Batches Seen Between Resets\": {\"count\": 1, \"max\": 1, \"sum\": 1.0, \"min\": 1}, \"Number of Batches Since Last Reset\": {\"count\": 1, \"max\": 1, \"sum\": 1.0, \"min\": 1}, \"Number of Records Since Last Reset\": {\"count\": 1, \"max\": 5000, \"sum\": 5000.0, \"min\": 5000}, \"Total Batches Seen\": {\"count\": 1, \"max\": 1, \"sum\": 1.0, \"min\": 1}, \"Total Records Seen\": {\"count\": 1, \"max\": 5000, \"sum\": 5000.0, \"min\": 5000}, \"Max Records Seen Between Resets\": {\"count\": 1, \"max\": 5000, \"sum\": 5000.0, \"min\": 5000}, \"Reset Count\": {\"count\": 1, \"max\": 0, \"sum\": 0.0, \"min\": 0}}, \"EndTime\": 1543105883.427023, \"Dimensions\": {\"Host\": \"algo-2\", \"Meta\": \"init_train_data_iter\", \"Operation\": \"training\", \"Algorithm\": \"AWS/KMeansWebscale\"}, \"StartTime\": 1543105883.426996}\n",
      "\u001b[0m\n",
      "\u001b[31m[2018-11-25 00:31:23.443] [tensorio] [info] data_pipeline_stats={\"name\": \"/opt/ml/input/data/train\", \"epoch\": 0, \"duration\": 59, \"num_examples\": 1}\u001b[0m\n",
      "\u001b[31m[11/25/2018 00:31:23 INFO 140293156546368] processed a total of 25000 examples\u001b[0m\n",
      "\u001b[31m[11/25/2018 00:31:23 INFO 140293156546368] #progress_metric: host=algo-2, completed 100 % of epochs\u001b[0m\n",
      "\u001b[31m#metrics {\"Metrics\": {\"Max Batches Seen Between Resets\": {\"count\": 1, \"max\": 5, \"sum\": 5.0, \"min\": 5}, \"Number of Batches Since Last Reset\": {\"count\": 1, \"max\": 5, \"sum\": 5.0, \"min\": 5}, \"Number of Records Since Last Reset\": {\"count\": 1, \"max\": 25000, \"sum\": 25000.0, \"min\": 25000}, \"Total Batches Seen\": {\"count\": 1, \"max\": 6, \"sum\": 6.0, \"min\": 6}, \"Total Records Seen\": {\"count\": 1, \"max\": 30000, \"sum\": 30000.0, \"min\": 30000}, \"Max Records Seen Between Resets\": {\"count\": 1, \"max\": 25000, \"sum\": 25000.0, \"min\": 25000}, \"Reset Count\": {\"count\": 1, \"max\": 1, \"sum\": 1.0, \"min\": 1}}, \"EndTime\": 1543105883.626914, \"Dimensions\": {\"Host\": \"algo-2\", \"Meta\": \"training_data_iter\", \"Operation\": \"training\", \"Algorithm\": \"AWS/KMeansWebscale\", \"epoch\": 0}, \"StartTime\": 1543105883.443952}\n",
      "\u001b[0m\n",
      "\u001b[31m[11/25/2018 00:31:23 INFO 140293156546368] #throughput_metric: host=algo-2, train throughput=136533.68889 records/second\u001b[0m\n",
      "\u001b[31m[11/25/2018 00:31:23 INFO 140293156546368] shrinking 100 centers into 10\u001b[0m\n",
      "\u001b[31m[11/25/2018 00:31:23 INFO 140293156546368] local kmeans attempt #0. Current mean square distance 10.647005\u001b[0m\n",
      "\u001b[31m[11/25/2018 00:31:23 INFO 140293156546368] local kmeans attempt #1. Current mean square distance 10.590774\u001b[0m\n",
      "\u001b[31m[11/25/2018 00:31:23 INFO 140293156546368] local kmeans attempt #2. Current mean square distance 10.507591\u001b[0m\n",
      "\u001b[31m[11/25/2018 00:31:23 INFO 140293156546368] local kmeans attempt #3. Current mean square distance 11.096724\u001b[0m\n",
      "\u001b[31m[11/25/2018 00:31:23 INFO 140293156546368] local kmeans attempt #4. Current mean square distance 10.637551\u001b[0m\n",
      "\u001b[31m[11/25/2018 00:31:23 INFO 140293156546368] local kmeans attempt #5. Current mean square distance 10.418122\u001b[0m\n",
      "\u001b[31m[11/25/2018 00:31:23 INFO 140293156546368] local kmeans attempt #6. Current mean square distance 10.646420\u001b[0m\n",
      "\u001b[31m[11/25/2018 00:31:23 INFO 140293156546368] local kmeans attempt #7. Current mean square distance 10.856620\u001b[0m\n"
     ]
    },
    {
     "name": "stdout",
     "output_type": "stream",
     "text": [
      "\u001b[31mDocker entrypoint called with argument(s): train\u001b[0m\n",
      "\u001b[31m[11/25/2018 00:31:22 INFO 140375520319296] Reading default configuration from /opt/amazon/lib/python2.7/site-packages/algorithm/resources/default-input.json: {u'_tuning_objective_metric': u'', u'_num_gpus': u'auto', u'local_lloyd_num_trials': u'auto', u'_log_level': u'info', u'_kvstore': u'auto', u'local_lloyd_init_method': u'kmeans++', u'force_dense': u'true', u'epochs': u'1', u'init_method': u'random', u'local_lloyd_tol': u'0.0001', u'local_lloyd_max_iter': u'300', u'_disable_wait_to_read': u'false', u'extra_center_factor': u'auto', u'eval_metrics': u'[\"msd\"]', u'_num_kv_servers': u'1', u'mini_batch_size': u'5000', u'half_life_time_size': u'0', u'_num_slices': u'1'}\u001b[0m\n",
      "\u001b[31m[11/25/2018 00:31:22 INFO 140375520319296] Reading provided configuration from /opt/ml/input/config/hyperparameters.json: {u'feature_dim': u'784', u'k': u'10', u'force_dense': u'True'}\u001b[0m\n",
      "\u001b[31m[11/25/2018 00:31:22 INFO 140375520319296] Final configuration: {u'k': u'10', u'_tuning_objective_metric': u'', u'_num_gpus': u'auto', u'local_lloyd_num_trials': u'auto', u'_log_level': u'info', u'_kvstore': u'auto', u'local_lloyd_init_method': u'kmeans++', u'force_dense': u'True', u'epochs': u'1', u'init_method': u'random', u'feature_dim': u'784', u'local_lloyd_tol': u'0.0001', u'local_lloyd_max_iter': u'300', u'_disable_wait_to_read': u'false', u'extra_center_factor': u'auto', u'eval_metrics': u'[\"msd\"]', u'_num_kv_servers': u'1', u'mini_batch_size': u'5000', u'half_life_time_size': u'0', u'_num_slices': u'1'}\u001b[0m\n",
      "\u001b[31m[11/25/2018 00:31:22 WARNING 140375520319296] Loggers have already been setup.\u001b[0m\n",
      "\u001b[31m[11/25/2018 00:31:22 INFO 140375520319296] Launching parameter server for role scheduler\u001b[0m\n",
      "\u001b[31m[11/25/2018 00:31:22 INFO 140375520319296] {'ECS_CONTAINER_METADATA_URI': 'http://169.254.170.2/v3/02d83d6f-a89b-407c-874a-7bb573f4eb07', 'PROTOCOL_BUFFERS_PYTHON_IMPLEMENTATION_VERSION': '2', 'PATH': '/opt/amazon/bin:/usr/local/nvidia/bin:/usr/local/sbin:/usr/local/bin:/usr/sbin:/usr/bin:/sbin:/bin:/opt/amazon/bin:/opt/amazon/bin', 'SAGEMAKER_HTTP_PORT': '8080', 'HOME': '/root', 'PYTHONUNBUFFERED': 'TRUE', 'CANONICAL_ENVROOT': '/opt/amazon', 'LD_LIBRARY_PATH': '/usr/local/nvidia/lib64:/opt/amazon/lib', 'MXNET_KVSTORE_BIGARRAY_BOUND': '400000000', 'LANG': 'en_US.utf8', 'DMLC_INTERFACE': 'ethwe', 'SHLVL': '1', 'AWS_REGION': 'ap-southeast-2', 'NVIDIA_VISIBLE_DEVICES': 'all', 'TRAINING_JOB_NAME': 'kmeans-2018-11-25-00-28-23-779', 'PROTOCOL_BUFFERS_PYTHON_IMPLEMENTATION': 'cpp', 'ENVROOT': '/opt/amazon', 'SAGEMAKER_DATA_PATH': '/opt/ml', 'NVIDIA_DRIVER_CAPABILITIES': 'compute,utility', 'NVIDIA_REQUIRE_CUDA': 'cuda>=9.0', 'OMP_NUM_THREADS': '18', 'HOSTNAME': 'aws', 'AWS_CONTAINER_CREDENTIALS_RELATIVE_URI': '/v2/credentials/3f28fac6-3c5f-4432-a408-a9f1f38c5e99', 'PWD': '/', 'AWS_EXECUTION_ENV': 'AWS_ECS_EC2'}\u001b[0m\n",
      "\u001b[31m[11/25/2018 00:31:22 INFO 140375520319296] envs={'ECS_CONTAINER_METADATA_URI': 'http://169.254.170.2/v3/02d83d6f-a89b-407c-874a-7bb573f4eb07', 'PROTOCOL_BUFFERS_PYTHON_IMPLEMENTATION_VERSION': '2', 'DMLC_NUM_WORKER': '2', 'DMLC_PS_ROOT_PORT': '9000', 'PATH': '/opt/amazon/bin:/usr/local/nvidia/bin:/usr/local/sbin:/usr/local/bin:/usr/sbin:/usr/bin:/sbin:/bin:/opt/amazon/bin:/opt/amazon/bin', 'SAGEMAKER_HTTP_PORT': '8080', 'HOME': '/root', 'PYTHONUNBUFFERED': 'TRUE', 'CANONICAL_ENVROOT': '/opt/amazon', 'LD_LIBRARY_PATH': '/usr/local/nvidia/lib64:/opt/amazon/lib', 'MXNET_KVSTORE_BIGARRAY_BOUND': '400000000', 'LANG': 'en_US.utf8', 'DMLC_INTERFACE': 'ethwe', 'SHLVL': '1', 'DMLC_PS_ROOT_URI': '10.40.0.4', 'AWS_REGION': 'ap-southeast-2', 'NVIDIA_VISIBLE_DEVICES': 'all', 'TRAINING_JOB_NAME': 'kmeans-2018-11-25-00-28-23-779', 'PROTOCOL_BUFFERS_PYTHON_IMPLEMENTATION': 'cpp', 'ENVROOT': '/opt/amazon', 'SAGEMAKER_DATA_PATH': '/opt/ml', 'NVIDIA_DRIVER_CAPABILITIES': 'compute,utility', 'NVIDIA_REQUIRE_CUDA': 'cuda>=9.0', 'OMP_NUM_THREADS': '18', 'HOSTNAME': 'aws', 'AWS_CONTAINER_CREDENTIALS_RELATIVE_URI': '/v2/credentials/3f28fac6-3c5f-4432-a408-a9f1f38c5e99', 'DMLC_ROLE': 'scheduler', 'PWD': '/', 'DMLC_NUM_SERVER': '1', 'AWS_EXECUTION_ENV': 'AWS_ECS_EC2'}\u001b[0m\n",
      "\u001b[31m[11/25/2018 00:31:22 INFO 140375520319296] Launching parameter server for role server\u001b[0m\n",
      "\u001b[31m[11/25/2018 00:31:22 INFO 140375520319296] {'ECS_CONTAINER_METADATA_URI': 'http://169.254.170.2/v3/02d83d6f-a89b-407c-874a-7bb573f4eb07', 'PROTOCOL_BUFFERS_PYTHON_IMPLEMENTATION_VERSION': '2', 'PATH': '/opt/amazon/bin:/usr/local/nvidia/bin:/usr/local/sbin:/usr/local/bin:/usr/sbin:/usr/bin:/sbin:/bin:/opt/amazon/bin:/opt/amazon/bin', 'SAGEMAKER_HTTP_PORT': '8080', 'HOME': '/root', 'PYTHONUNBUFFERED': 'TRUE', 'CANONICAL_ENVROOT': '/opt/amazon', 'LD_LIBRARY_PATH': '/usr/local/nvidia/lib64:/opt/amazon/lib', 'MXNET_KVSTORE_BIGARRAY_BOUND': '400000000', 'LANG': 'en_US.utf8', 'DMLC_INTERFACE': 'ethwe', 'SHLVL': '1', 'AWS_REGION': 'ap-southeast-2', 'NVIDIA_VISIBLE_DEVICES': 'all', 'TRAINING_JOB_NAME': 'kmeans-2018-11-25-00-28-23-779', 'PROTOCOL_BUFFERS_PYTHON_IMPLEMENTATION': 'cpp', 'ENVROOT': '/opt/amazon', 'SAGEMAKER_DATA_PATH': '/opt/ml', 'NVIDIA_DRIVER_CAPABILITIES': 'compute,utility', 'NVIDIA_REQUIRE_CUDA': 'cuda>=9.0', 'OMP_NUM_THREADS': '18', 'HOSTNAME': 'aws', 'AWS_CONTAINER_CREDENTIALS_RELATIVE_URI': '/v2/credentials/3f28fac6-3c5f-4432-a408-a9f1f38c5e99', 'PWD': '/', 'AWS_EXECUTION_ENV': 'AWS_ECS_EC2'}\u001b[0m\n",
      "\u001b[31m[11/25/2018 00:31:22 INFO 140375520319296] envs={'ECS_CONTAINER_METADATA_URI': 'http://169.254.170.2/v3/02d83d6f-a89b-407c-874a-7bb573f4eb07', 'PROTOCOL_BUFFERS_PYTHON_IMPLEMENTATION_VERSION': '2', 'DMLC_NUM_WORKER': '2', 'DMLC_PS_ROOT_PORT': '9000', 'PATH': '/opt/amazon/bin:/usr/local/nvidia/bin:/usr/local/sbin:/usr/local/bin:/usr/sbin:/usr/bin:/sbin:/bin:/opt/amazon/bin:/opt/amazon/bin', 'SAGEMAKER_HTTP_PORT': '8080', 'HOME': '/root', 'PYTHONUNBUFFERED': 'TRUE', 'CANONICAL_ENVROOT': '/opt/amazon', 'LD_LIBRARY_PATH': '/usr/local/nvidia/lib64:/opt/amazon/lib', 'MXNET_KVSTORE_BIGARRAY_BOUND': '400000000', 'LANG': 'en_US.utf8', 'DMLC_INTERFACE': 'ethwe', 'SHLVL': '1', 'DMLC_PS_ROOT_URI': '10.40.0.4', 'AWS_REGION': 'ap-southeast-2', 'NVIDIA_VISIBLE_DEVICES': 'all', 'TRAINING_JOB_NAME': 'kmeans-2018-11-25-00-28-23-779', 'PROTOCOL_BUFFERS_PYTHON_IMPLEMENTATION': 'cpp', 'ENVROOT': '/opt/amazon', 'SAGEMAKER_DATA_PATH': '/opt/ml', 'NVIDIA_DRIVER_CAPABILITIES': 'compute,utility', 'NVIDIA_REQUIRE_CUDA': 'cuda>=9.0', 'OMP_NUM_THREADS': '18', 'HOSTNAME': 'aws', 'AWS_CONTAINER_CREDENTIALS_RELATIVE_URI': '/v2/credentials/3f28fac6-3c5f-4432-a408-a9f1f38c5e99', 'DMLC_ROLE': 'server', 'PWD': '/', 'DMLC_NUM_SERVER': '1', 'AWS_EXECUTION_ENV': 'AWS_ECS_EC2'}\u001b[0m\n",
      "\u001b[31m[11/25/2018 00:31:22 INFO 140375520319296] Environment: {'ECS_CONTAINER_METADATA_URI': 'http://169.254.170.2/v3/02d83d6f-a89b-407c-874a-7bb573f4eb07', 'PROTOCOL_BUFFERS_PYTHON_IMPLEMENTATION_VERSION': '2', 'DMLC_PS_ROOT_PORT': '9000', 'DMLC_NUM_WORKER': '2', 'SAGEMAKER_HTTP_PORT': '8080', 'PATH': '/opt/amazon/bin:/usr/local/nvidia/bin:/usr/local/sbin:/usr/local/bin:/usr/sbin:/usr/bin:/sbin:/bin:/opt/amazon/bin:/opt/amazon/bin', 'PYTHONUNBUFFERED': 'TRUE', 'CANONICAL_ENVROOT': '/opt/amazon', 'LD_LIBRARY_PATH': '/usr/local/nvidia/lib64:/opt/amazon/lib', 'MXNET_KVSTORE_BIGARRAY_BOUND': '400000000', 'LANG': 'en_US.utf8', 'DMLC_INTERFACE': 'ethwe', 'SHLVL': '1', 'DMLC_PS_ROOT_URI': '10.40.0.4', 'AWS_REGION': 'ap-southeast-2', 'NVIDIA_VISIBLE_DEVICES': 'all', 'TRAINING_JOB_NAME': 'kmeans-2018-11-25-00-28-23-779', 'HOME': '/root', 'PROTOCOL_BUFFERS_PYTHON_IMPLEMENTATION': 'cpp', 'ENVROOT': '/opt/amazon', 'SAGEMAKER_DATA_PATH': '/opt/ml', 'NVIDIA_DRIVER_CAPABILITIES': 'compute,utility', 'NVIDIA_REQUIRE_CUDA': 'cuda>=9.0', 'OMP_NUM_THREADS': '18', 'HOSTNAME': 'aws', 'AWS_CONTAINER_CREDENTIALS_RELATIVE_URI': '/v2/credentials/3f28fac6-3c5f-4432-a408-a9f1f38c5e99', 'DMLC_ROLE': 'worker', 'PWD': '/', 'DMLC_NUM_SERVER': '1', 'AWS_EXECUTION_ENV': 'AWS_ECS_EC2'}\u001b[0m\n",
      "\u001b[31mProcess 69 is a shell:scheduler.\u001b[0m\n",
      "\u001b[31mProcess 70 is a shell:server.\u001b[0m\n",
      "\u001b[31mProcess 1 is a worker.\u001b[0m\n",
      "\u001b[31m[11/25/2018 00:31:22 INFO 140375520319296] Using default worker.\u001b[0m\n",
      "\u001b[31m[11/25/2018 00:31:22 INFO 140375520319296] Loaded iterator creator application/x-recordio-protobuf for content type ('application/x-recordio-protobuf', '1.0')\u001b[0m\n",
      "\u001b[31m[11/25/2018 00:31:22 INFO 140375520319296] Create Store: dist_async\u001b[0m\n",
      "\u001b[31m[11/25/2018 00:31:23 INFO 140375520319296] nvidia-smi took: 0.0252029895782 secs to identify 0 gpus\u001b[0m\n",
      "\u001b[31m[11/25/2018 00:31:23 INFO 140375520319296] Number of GPUs being used: 0\u001b[0m\n",
      "\u001b[31m[2018-11-25 00:31:23.380] [tensorio] [info] batch={\"data_pipeline\": \"/opt/ml/input/data/train\", \"num_examples\": 5000, \"features\": [{\"name\": \"values\", \"shape\": [784], \"storage_type\": \"dense\"}]}\u001b[0m\n",
      "\u001b[31m[11/25/2018 00:31:23 INFO 140375520319296] Setting up with params: {u'k': u'10', u'_tuning_objective_metric': u'', u'_num_gpus': u'auto', u'local_lloyd_num_trials': u'auto', u'_log_level': u'info', u'_kvstore': u'auto', u'local_lloyd_init_method': u'kmeans++', u'force_dense': u'True', u'epochs': u'1', u'init_method': u'random', u'feature_dim': u'784', u'local_lloyd_tol': u'0.0001', u'local_lloyd_max_iter': u'300', u'_disable_wait_to_read': u'false', u'extra_center_factor': u'auto', u'eval_metrics': u'[\"msd\"]', u'_num_kv_servers': u'1', u'mini_batch_size': u'5000', u'half_life_time_size': u'0', u'_num_slices': u'1'}\u001b[0m\n",
      "\u001b[31m/opt/amazon/lib/python2.7/site-packages/ai_algorithms_sdk/config/config_helper.py:172: DeprecationWarning: deprecated\n",
      "  warnings.warn(\"deprecated\", DeprecationWarning)\u001b[0m\n",
      "\u001b[31m[11/25/2018 00:31:23 INFO 140375520319296] Number of GPUs being used: 0\u001b[0m\n",
      "\u001b[31m/opt/amazon/lib/python2.7/site-packages/ai_algorithms_sdk/config/config_helper.py:122: DeprecationWarning: deprecated\n",
      "  warnings.warn(\"deprecated\", DeprecationWarning)\u001b[0m\n",
      "\u001b[31m[11/25/2018 00:31:23 INFO 140375520319296] number of center slices 1\u001b[0m\n",
      "\u001b[31m#metrics {\"Metrics\": {\"Max Batches Seen Between Resets\": {\"count\": 1, \"max\": 1, \"sum\": 1.0, \"min\": 1}, \"Number of Batches Since Last Reset\": {\"count\": 1, \"max\": 1, \"sum\": 1.0, \"min\": 1}, \"Number of Records Since Last Reset\": {\"count\": 1, \"max\": 5000, \"sum\": 5000.0, \"min\": 5000}, \"Total Batches Seen\": {\"count\": 1, \"max\": 1, \"sum\": 1.0, \"min\": 1}, \"Total Records Seen\": {\"count\": 1, \"max\": 5000, \"sum\": 5000.0, \"min\": 5000}, \"Max Records Seen Between Resets\": {\"count\": 1, \"max\": 5000, \"sum\": 5000.0, \"min\": 5000}, \"Reset Count\": {\"count\": 1, \"max\": 0, \"sum\": 0.0, \"min\": 0}}, \"EndTime\": 1543105883.423492, \"Dimensions\": {\"Host\": \"algo-1\", \"Meta\": \"init_train_data_iter\", \"Operation\": \"training\", \"Algorithm\": \"AWS/KMeansWebscale\"}, \"StartTime\": 1543105883.423461}\n",
      "\u001b[0m\n",
      "\u001b[31m[2018-11-25 00:31:23.442] [tensorio] [info] data_pipeline_stats={\"name\": \"/opt/ml/input/data/train\", \"epoch\": 0, \"duration\": 63, \"num_examples\": 1}\u001b[0m\n",
      "\u001b[31m[11/25/2018 00:31:23 INFO 140375520319296] processed a total of 25000 examples\u001b[0m\n",
      "\u001b[31m[11/25/2018 00:31:23 INFO 140375520319296] #progress_metric: host=algo-1, completed 100 % of epochs\u001b[0m\n",
      "\u001b[31m#metrics {\"Metrics\": {\"Max Batches Seen Between Resets\": {\"count\": 1, \"max\": 5, \"sum\": 5.0, \"min\": 5}, \"Number of Batches Since Last Reset\": {\"count\": 1, \"max\": 5, \"sum\": 5.0, \"min\": 5}, \"Number of Records Since Last Reset\": {\"count\": 1, \"max\": 25000, \"sum\": 25000.0, \"min\": 25000}, \"Total Batches Seen\": {\"count\": 1, \"max\": 6, \"sum\": 6.0, \"min\": 6}, \"Total Records Seen\": {\"count\": 1, \"max\": 30000, \"sum\": 30000.0, \"min\": 30000}, \"Max Records Seen Between Resets\": {\"count\": 1, \"max\": 25000, \"sum\": 25000.0, \"min\": 25000}, \"Reset Count\": {\"count\": 1, \"max\": 1, \"sum\": 1.0, \"min\": 1}}, \"EndTime\": 1543105883.628544, \"Dimensions\": {\"Host\": \"algo-1\", \"Meta\": \"training_data_iter\", \"Operation\": \"training\", \"Algorithm\": \"AWS/KMeansWebscale\", \"epoch\": 0}, \"StartTime\": 1543105883.442732}\n",
      "\u001b[0m\n",
      "\u001b[31m[11/25/2018 00:31:23 INFO 140375520319296] #throughput_metric: host=algo-1, train throughput=134398.531657 records/second\u001b[0m\n",
      "\u001b[31m[11/25/2018 00:31:23 INFO 140375520319296] shrinking 100 centers into 10\u001b[0m\n",
      "\u001b[31m[11/25/2018 00:31:23 INFO 140375520319296] local kmeans attempt #0. Current mean square distance 10.916718\u001b[0m\n",
      "\u001b[31m[11/25/2018 00:31:23 INFO 140375520319296] local kmeans attempt #1. Current mean square distance 10.705894\u001b[0m\n",
      "\u001b[31m[11/25/2018 00:31:23 INFO 140375520319296] local kmeans attempt #2. Current mean square distance 10.519014\u001b[0m\n",
      "\u001b[31m[11/25/2018 00:31:23 INFO 140375520319296] local kmeans attempt #3. Current mean square distance 10.579695\u001b[0m\n",
      "\u001b[31m[11/25/2018 00:31:23 INFO 140375520319296] local kmeans attempt #4. Current mean square distance 10.844137\u001b[0m\n",
      "\u001b[31m[11/25/2018 00:31:23 INFO 140375520319296] local kmeans attempt #5. Current mean square distance 11.163873\u001b[0m\n",
      "\u001b[31m[11/25/2018 00:31:23 INFO 140375520319296] local kmeans attempt #6. Current mean square distance 10.506258\u001b[0m\n",
      "\u001b[31m[11/25/2018 00:31:23 INFO 140375520319296] local kmeans attempt #7. Current mean square distance 10.768732\u001b[0m\n",
      "\u001b[31m[11/25/2018 00:31:23 INFO 140375520319296] local kmeans attempt #8. Current mean square distance 10.991332\u001b[0m\n",
      "\u001b[31m[11/25/2018 00:31:24 INFO 140375520319296] local kmeans attempt #9. Current mean square distance 10.463154\u001b[0m\n",
      "\u001b[31m[11/25/2018 00:31:24 INFO 140375520319296] finished shrinking process. Mean Square Distance = 10\u001b[0m\n",
      "\u001b[31m[11/25/2018 00:31:24 INFO 140375520319296] #quality_metric: host=algo-1, train msd <loss>=10.4631538391\u001b[0m\n",
      "\u001b[31m[11/25/2018 00:31:24 INFO 140375520319296] batch data loading with context took: 23.1084%, (0.043230 secs)\u001b[0m\n",
      "\u001b[31m[11/25/2018 00:31:24 INFO 140375520319296] compute all data-center distances: point norm took: 20.6164%, (0.038568 secs)\u001b[0m\n",
      "\u001b[31m[11/25/2018 00:31:24 INFO 140375520319296] predict compute msd took: 15.3034%, (0.028629 secs)\u001b[0m\n",
      "\u001b[31m[11/25/2018 00:31:24 INFO 140375520319296] compute all data-center distances: inner product took: 15.2393%, (0.028509 secs)\u001b[0m\n",
      "\u001b[31m[11/25/2018 00:31:24 INFO 140375520319296] gradient: cluster center took: 10.9665%, (0.020516 secs)\u001b[0m\n",
      "\u001b[31m[11/25/2018 00:31:24 INFO 140375520319296] collect from kv store took: 7.5688%, (0.014159 secs)\u001b[0m\n",
      "\u001b[31m[11/25/2018 00:31:24 INFO 140375520319296] gradient: cluster size  took: 1.9792%, (0.003703 secs)\u001b[0m\n",
      "\u001b[31m[11/25/2018 00:31:24 INFO 140375520319296] splitting centers key-value pair took: 1.8293%, (0.003422 secs)\u001b[0m\n",
      "\u001b[31m[11/25/2018 00:31:24 INFO 140375520319296] gradient: one_hot took: 1.7554%, (0.003284 secs)\u001b[0m\n",
      "\u001b[31m[11/25/2018 00:31:24 INFO 140375520319296] update state and report convergance took: 0.7767%, (0.001453 secs)\u001b[0m\n",
      "\u001b[31m[11/25/2018 00:31:24 INFO 140375520319296] compute all data-center distances: center norm took: 0.6714%, (0.001256 secs)\u001b[0m\n",
      "\u001b[31m[11/25/2018 00:31:24 INFO 140375520319296] update set-up time took: 0.1208%, (0.000226 secs)\u001b[0m\n",
      "\u001b[31m[11/25/2018 00:31:24 INFO 140375520319296] predict minus dist took: 0.0644%, (0.000120 secs)\u001b[0m\n",
      "\u001b[31m[11/25/2018 00:31:24 INFO 140375520319296] TOTAL took: 0.187075376511\u001b[0m\n",
      "\u001b[31m[11/25/2018 00:31:24 INFO 140375520319296] Number of GPUs being used: 0\u001b[0m\n",
      "\u001b[31m#metrics {\"Metrics\": {\"finalize.time\": {\"count\": 1, \"max\": 378.6129951477051, \"sum\": 378.6129951477051, \"min\": 378.6129951477051}, \"initialize.time\": {\"count\": 1, \"max\": 20.783185958862305, \"sum\": 20.783185958862305, \"min\": 20.783185958862305}, \"model.serialize.time\": {\"count\": 1, \"max\": 0.4029273986816406, \"sum\": 0.4029273986816406, \"min\": 0.4029273986816406}, \"update.time\": {\"count\": 1, \"max\": 185.5599880218506, \"sum\": 185.5599880218506, \"min\": 185.5599880218506}, \"epochs\": {\"count\": 1, \"max\": 1, \"sum\": 1.0, \"min\": 1}, \"state.serialize.time\": {\"count\": 1, \"max\": 0.6201267242431641, \"sum\": 0.6201267242431641, \"min\": 0.6201267242431641}, \"_shrink.time\": {\"count\": 1, \"max\": 376.74593925476074, \"sum\": 376.74593925476074, \"min\": 376.74593925476074}}, \"EndTime\": 1543105884.008892, \"Dimensions\": {\"Host\": \"algo-1\", \"Operation\": \"training\", \"Algorithm\": \"AWS/KMeansWebscale\"}, \"StartTime\": 1543105883.378178}\n",
      "\u001b[0m\n",
      "\u001b[31m[11/25/2018 00:31:24 INFO 140375520319296] Test data is not provided.\u001b[0m\n",
      "\u001b[31m[2018-11-25 00:31:24.009] [tensorio] [info] data_pipeline_stats={\"name\": \"/opt/ml/input/data/train\", \"epoch\": 1, \"duration\": 566, \"num_examples\": 5}\u001b[0m\n",
      "\u001b[31m[2018-11-25 00:31:24.009] [tensorio] [info] data_pipeline_stats={\"name\": \"/opt/ml/input/data/train\", \"duration\": 629, \"num_epochs\": 2, \"num_examples\": 6}\u001b[0m\n",
      "\u001b[31m#metrics {\"Metrics\": {\"totaltime\": {\"count\": 1, \"max\": 1784.1520309448242, \"sum\": 1784.1520309448242, \"min\": 1784.1520309448242}, \"setuptime\": {\"count\": 1, \"max\": 26.55506134033203, \"sum\": 26.55506134033203, \"min\": 26.55506134033203}}, \"EndTime\": 1543105884.013438, \"Dimensions\": {\"Host\": \"algo-1\", \"Operation\": \"training\", \"Algorithm\": \"AWS/KMeansWebscale\"}, \"StartTime\": 1543105884.009025}\n",
      "\u001b[0m\n",
      "\u001b[32m[11/25/2018 00:31:23 INFO 140293156546368] local kmeans attempt #8. Current mean square distance 10.981460\u001b[0m\n",
      "\u001b[32m[11/25/2018 00:31:23 INFO 140293156546368] local kmeans attempt #9. Current mean square distance 10.918058\u001b[0m\n",
      "\u001b[32m[11/25/2018 00:31:23 INFO 140293156546368] finished shrinking process. Mean Square Distance = 10\u001b[0m\n",
      "\u001b[32m[11/25/2018 00:31:23 INFO 140293156546368] #quality_metric: host=algo-2, train msd <loss>=10.4181222916\u001b[0m\n",
      "\u001b[32m[11/25/2018 00:31:23 INFO 140293156546368] batch data loading with context took: 22.6749%, (0.042018 secs)\u001b[0m\n",
      "\u001b[32m[11/25/2018 00:31:23 INFO 140293156546368] compute all data-center distances: inner product took: 19.0080%, (0.035223 secs)\u001b[0m\n",
      "\u001b[32m[11/25/2018 00:31:23 INFO 140293156546368] compute all data-center distances: point norm took: 18.6309%, (0.034524 secs)\u001b[0m\n",
      "\u001b[32m[11/25/2018 00:31:23 INFO 140293156546368] collect from kv store took: 13.7876%, (0.025549 secs)\u001b[0m\n",
      "\u001b[32m[11/25/2018 00:31:23 INFO 140293156546368] predict compute msd took: 11.3780%, (0.021084 secs)\u001b[0m\n",
      "\u001b[32m[11/25/2018 00:31:23 INFO 140293156546368] gradient: cluster center took: 7.3882%, (0.013691 secs)\u001b[0m\n",
      "\u001b[32m[11/25/2018 00:31:23 INFO 140293156546368] splitting centers key-value pair took: 2.2880%, (0.004240 secs)\u001b[0m\n",
      "\u001b[32m[11/25/2018 00:31:23 INFO 140293156546368] gradient: one_hot took: 1.9499%, (0.003613 secs)\u001b[0m\n",
      "\u001b[32m[11/25/2018 00:31:23 INFO 140293156546368] gradient: cluster size  took: 1.4938%, (0.002768 secs)\u001b[0m\n",
      "\u001b[32m[11/25/2018 00:31:23 INFO 140293156546368] update state and report convergance took: 0.7168%, (0.001328 secs)\u001b[0m\n",
      "\u001b[32m[11/25/2018 00:31:23 INFO 140293156546368] compute all data-center distances: center norm took: 0.5278%, (0.000978 secs)\u001b[0m\n",
      "\u001b[32m[11/25/2018 00:31:23 INFO 140293156546368] update set-up time took: 0.0933%, (0.000173 secs)\u001b[0m\n",
      "\u001b[32m[11/25/2018 00:31:23 INFO 140293156546368] predict minus dist took: 0.0630%, (0.000117 secs)\u001b[0m\n",
      "\u001b[32m[11/25/2018 00:31:23 INFO 140293156546368] TOTAL took: 0.185306072235\u001b[0m\n",
      "\u001b[32m[11/25/2018 00:31:23 INFO 140293156546368] Number of GPUs being used: 0\u001b[0m\n",
      "\u001b[32m[11/25/2018 00:31:23 INFO 140293156546368] No model is serialized on a non-master node\u001b[0m\n",
      "\u001b[32m#metrics {\"Metrics\": {\"finalize.time\": {\"count\": 1, \"max\": 347.667932510376, \"sum\": 347.667932510376, \"min\": 347.667932510376}, \"initialize.time\": {\"count\": 1, \"max\": 18.999099731445312, \"sum\": 18.999099731445312, \"min\": 18.999099731445312}, \"model.serialize.time\": {\"count\": 1, \"max\": 0.07700920104980469, \"sum\": 0.07700920104980469, \"min\": 0.07700920104980469}, \"update.time\": {\"count\": 1, \"max\": 182.76119232177734, \"sum\": 182.76119232177734, \"min\": 182.76119232177734}, \"epochs\": {\"count\": 1, \"max\": 1, \"sum\": 1.0, \"min\": 1}, \"state.serialize.time\": {\"count\": 1, \"max\": 0.514984130859375, \"sum\": 0.514984130859375, \"min\": 0.514984130859375}, \"_shrink.time\": {\"count\": 1, \"max\": 343.23811531066895, \"sum\": 343.23811531066895, \"min\": 343.23811531066895}}, \"EndTime\": 1543105883.980964, \"Dimensions\": {\"Host\": \"algo-2\", \"Operation\": \"training\", \"Algorithm\": \"AWS/KMeansWebscale\"}, \"StartTime\": 1543105883.382413}\n",
      "\u001b[0m\n",
      "\u001b[32m[11/25/2018 00:31:23 INFO 140293156546368] Test data is not provided.\u001b[0m\n",
      "\u001b[32m[2018-11-25 00:31:23.981] [tensorio] [info] data_pipeline_stats={\"name\": \"/opt/ml/input/data/train\", \"epoch\": 1, \"duration\": 537, \"num_examples\": 5}\u001b[0m\n",
      "\u001b[32m[2018-11-25 00:31:23.981] [tensorio] [info] data_pipeline_stats={\"name\": \"/opt/ml/input/data/train\", \"duration\": 596, \"num_epochs\": 2, \"num_examples\": 6}\u001b[0m\n",
      "\u001b[32m#metrics {\"Metrics\": {\"totaltime\": {\"count\": 1, \"max\": 1986.8881702423096, \"sum\": 1986.8881702423096, \"min\": 1986.8881702423096}, \"setuptime\": {\"count\": 1, \"max\": 22.268056869506836, \"sum\": 22.268056869506836, \"min\": 22.268056869506836}}, \"EndTime\": 1543105883.987027, \"Dimensions\": {\"Host\": \"algo-2\", \"Operation\": \"training\", \"Algorithm\": \"AWS/KMeansWebscale\"}, \"StartTime\": 1543105883.981077}\n",
      "\u001b[0m\n"
     ]
    },
    {
     "name": "stdout",
     "output_type": "stream",
     "text": [
      "\n",
      "2018-11-25 00:31:30 Uploading - Uploading generated training model\n",
      "2018-11-25 00:31:30 Completed - Training job completed\n",
      "Billable seconds: 53\n",
      "CPU times: user 8.44 s, sys: 431 ms, total: 8.87 s\n",
      "Wall time: 3min 53s\n"
     ]
    }
   ],
   "source": [
    "%%time\n",
    "kmeans.fit(kmeans.record_set(train_set[0]))"
   ]
  },
  {
   "cell_type": "code",
   "execution_count": 24,
   "metadata": {},
   "outputs": [
    {
     "name": "stderr",
     "output_type": "stream",
     "text": [
      "INFO:sagemaker:Creating model with name: kmeans-2018-11-25-00-33-23-877\n",
      "INFO:sagemaker:Creating endpoint with name kmeans-2018-11-25-00-28-23-779\n"
     ]
    },
    {
     "name": "stdout",
     "output_type": "stream",
     "text": [
      "---------------------------------------------------------------------------!CPU times: user 377 ms, sys: 30.2 ms, total: 407 ms\n",
      "Wall time: 6min 20s\n"
     ]
    }
   ],
   "source": [
    "%%time\n",
    "\n",
    "kmeans_predictor=kmeans.deploy(initial_instance_count=1,\n",
    "                              instance_type='ml.m4.xlarge')"
   ]
  },
  {
   "cell_type": "code",
   "execution_count": 32,
   "metadata": {},
   "outputs": [
    {
     "name": "stderr",
     "output_type": "stream",
     "text": [
      "INFO:sagemaker:Creating transform job with name: Batch-Transform-2018-11-25-00-48-47-287\n"
     ]
    },
    {
     "name": "stdout",
     "output_type": "stream",
     "text": [
      ".......................................!\n",
      "Sample transform result: {\"closest_cluster\":0.0,\"distance_to_cluster\":6.141941070556641}\n",
      "\n"
     ]
    }
   ],
   "source": [
    "import boto3\n",
    "import sagemaker\n",
    "import json\n",
    "\n",
    "input_key = 'kmeans_batch_example/input/valid-data.csv'\n",
    "input_location = 's3://{}/{}'.format(bucket, input_key)\n",
    "output_location = 's3://{}/kmeans_batch_example/output'.format(bucket)\n",
    "\n",
    "### Convert the validation set numpy array to a csv file and upload to s3\n",
    "numpy.savetxt('valid-data.csv', valid_set[0], delimiter=',', fmt='%g')\n",
    "s3_client = boto3.client('s3')\n",
    "s3_client.upload_file('valid-data.csv', bucket, input_key)\n",
    "\n",
    "# Initialize the transformer object\n",
    "transformer =sagemaker.transformer.Transformer(\n",
    "    base_transform_job_name='Batch-Transform',\n",
    "    model_name='kmeans-2018-11-25-00-33-23-877',\n",
    "    instance_count=1,\n",
    "    instance_type='ml.c4.xlarge',\n",
    "    output_path=output_location\n",
    "    )\n",
    "# To start a transform job:\n",
    "transformer.transform(input_location, content_type='text/csv', split_type='Line')\n",
    "# Then wait until transform job is completed\n",
    "transformer.wait()\n",
    "\n",
    "# To fetch validation result \n",
    "s3_client.download_file(bucket, 'kmeans_batch_example/output/valid-data.csv.out', 'valid-result')\n",
    "with open('valid-result') as f:\n",
    "    results = f.readlines()   \n",
    "print(\"Sample transform result: {}\".format(results[0]))\n"
   ]
  },
  {
   "cell_type": "code",
   "execution_count": 35,
   "metadata": {},
   "outputs": [
    {
     "name": "stdout",
     "output_type": "stream",
     "text": [
      "[label {\n",
      "  key: \"closest_cluster\"\n",
      "  value {\n",
      "    float32_tensor {\n",
      "      values: 8.0\n",
      "    }\n",
      "  }\n",
      "}\n",
      "label {\n",
      "  key: \"distance_to_cluster\"\n",
      "  value {\n",
      "    float32_tensor {\n",
      "      values: 5.0553693771362305\n",
      "    }\n",
      "  }\n",
      "}\n",
      "]\n"
     ]
    }
   ],
   "source": [
    "result=kmeans_predictor.predict(valid_set[0][30:31])\n",
    "print(result)"
   ]
  },
  {
   "cell_type": "code",
   "execution_count": 37,
   "metadata": {},
   "outputs": [
    {
     "name": "stdout",
     "output_type": "stream",
     "text": [
      "CPU times: user 31.4 ms, sys: 3.2 ms, total: 34.6 ms\n",
      "Wall time: 225 ms\n"
     ]
    }
   ],
   "source": [
    "%%time\n",
    "\n",
    "results = kmeans_predictor.predict(valid_set[0][0:100])\n",
    "clusters = [r.label['closest_cluster'].float32_tensor.values[0] for r in results]"
   ]
  },
  {
   "cell_type": "code",
   "execution_count": 45,
   "metadata": {},
   "outputs": [
    {
     "name": "stdout",
     "output_type": "stream",
     "text": [
      "\n",
      "\n",
      "\n",
      "Cluster0\n"
     ]
    },
    {
     "data": {
      "image/png": "[encoded data removed]",
      "text/plain": [
       "<Figure size 360x360 with 20 Axes>"
      ]
     },
     "metadata": {},
     "output_type": "display_data"
    },
    {
     "name": "stdout",
     "output_type": "stream",
     "text": [
      "\n",
      "\n",
      "\n",
      "Cluster1\n"
     ]
    },
    {
     "data": {
      "image/png": "[encoded data removed]",
      "text/plain": [
       "<Figure size 360x360 with 20 Axes>"
      ]
     },
     "metadata": {},
     "output_type": "display_data"
    },
    {
     "name": "stdout",
     "output_type": "stream",
     "text": [
      "\n",
      "\n",
      "\n",
      "Cluster2\n"
     ]
    },
    {
     "data": {
      "image/png": "[encoded data removed]",
      "text/plain": [
       "<Figure size 360x360 with 10 Axes>"
      ]
     },
     "metadata": {},
     "output_type": "display_data"
    },
    {
     "name": "stdout",
     "output_type": "stream",
     "text": [
      "\n",
      "\n",
      "\n",
      "Cluster3\n"
     ]
    },
    {
     "data": {
      "image/png": "[encoded data removed]",
      "text/plain": [
       "<Figure size 360x360 with 10 Axes>"
      ]
     },
     "metadata": {},
     "output_type": "display_data"
    },
    {
     "name": "stdout",
     "output_type": "stream",
     "text": [
      "\n",
      "\n",
      "\n",
      "Cluster4\n"
     ]
    },
    {
     "data": {
      "image/png": "[encoded data removed]",
      "text/plain": [
       "<Figure size 360x360 with 15 Axes>"
      ]
     },
     "metadata": {},
     "output_type": "display_data"
    },
    {
     "name": "stdout",
     "output_type": "stream",
     "text": [
      "\n",
      "\n",
      "\n",
      "Cluster5\n"
     ]
    },
    {
     "data": {
      "image/png": "[encoded data removed]",
      "text/plain": [
       "<Figure size 360x360 with 10 Axes>"
      ]
     },
     "metadata": {},
     "output_type": "display_data"
    },
    {
     "name": "stdout",
     "output_type": "stream",
     "text": [
      "\n",
      "\n",
      "\n",
      "Cluster6\n"
     ]
    },
    {
     "data": {
      "image/png": "[encoded data removed]",
      "text/plain": [
       "<Figure size 360x360 with 10 Axes>"
      ]
     },
     "metadata": {},
     "output_type": "display_data"
    },
    {
     "name": "stdout",
     "output_type": "stream",
     "text": [
      "\n",
      "\n",
      "\n",
      "Cluster7\n"
     ]
    },
    {
     "data": {
      "image/png": "[encoded data removed]",
      "text/plain": [
       "<Figure size 360x360 with 5 Axes>"
      ]
     },
     "metadata": {},
     "output_type": "display_data"
    },
    {
     "name": "stdout",
     "output_type": "stream",
     "text": [
      "\n",
      "\n",
      "\n",
      "Cluster8\n"
     ]
    },
    {
     "data": {
      "image/png": "[encoded data removed]",
      "text/plain": [
       "<Figure size 360x360 with 15 Axes>"
      ]
     },
     "metadata": {},
     "output_type": "display_data"
    },
    {
     "name": "stdout",
     "output_type": "stream",
     "text": [
      "\n",
      "\n",
      "\n",
      "Cluster9\n"
     ]
    },
    {
     "data": {
      "image/png": "[encoded data removed]",
      "text/plain": [
       "<Figure size 360x360 with 5 Axes>"
      ]
     },
     "metadata": {},
     "output_type": "display_data"
    }
   ],
   "source": [
    "for cluster in range(10):\n",
    "    print('\\n\\n\\nCluster{}'.format(int(cluster)))\n",
    "    digits = [img for l, img in zip(clusters, valid_set[0]) if int(l) == cluster]\n",
    "    height = ((len(digits)-1)//5)+1\n",
    "    width = 5\n",
    "    plt.rcParams[\"figure.figsize\"] = (5,5)\n",
    "    _, subplots = plt.subplots(height, width)\n",
    "    subplots = numpy.ndarray.flatten(subplots)\n",
    "    for subplot, image in zip(subplots, digits):\n",
    "        show_img(image, subplot=subplot)\n",
    "    for subplot in subplots[len(digits):]:\n",
    "        subplot.axis('off')\n",
    "\n",
    "    plt.show()"
   ]
  },
  {
   "cell_type": "code",
   "execution_count": 38,
   "metadata": {},
   "outputs": [
    {
     "name": "stdout",
     "output_type": "stream",
     "text": [
      "Help on class zip in module builtins:\n",
      "\n",
      "class zip(object)\n",
      " |  zip(iter1 [,iter2 [...]]) --> zip object\n",
      " |  \n",
      " |  Return a zip object whose .__next__() method returns a tuple where\n",
      " |  the i-th element comes from the i-th iterable argument.  The .__next__()\n",
      " |  method continues until the shortest iterable in the argument sequence\n",
      " |  is exhausted and then it raises StopIteration.\n",
      " |  \n",
      " |  Methods defined here:\n",
      " |  \n",
      " |  __getattribute__(self, name, /)\n",
      " |      Return getattr(self, name).\n",
      " |  \n",
      " |  __iter__(self, /)\n",
      " |      Implement iter(self).\n",
      " |  \n",
      " |  __new__(*args, **kwargs) from builtins.type\n",
      " |      Create and return a new object.  See help(type) for accurate signature.\n",
      " |  \n",
      " |  __next__(self, /)\n",
      " |      Implement next(self).\n",
      " |  \n",
      " |  __reduce__(...)\n",
      " |      Return state information for pickling.\n",
      "\n"
     ]
    }
   ],
   "source": [
    "help(zip)"
   ]
  },
  {
   "cell_type": "code",
   "execution_count": null,
   "metadata": {},
   "outputs": [],
   "source": []
  }
 ],
 "metadata": {
  "kernelspec": {
   "display_name": "conda_python3",
   "language": "python",
   "name": "conda_python3"
  },
  "language_info": {
   "codemirror_mode": {
    "name": "ipython",
    "version": 3
   },
   "file_extension": ".py",
   "mimetype": "text/x-python",
   "name": "python",
   "nbconvert_exporter": "python",
   "pygments_lexer": "ipython3",
   "version": "3.6.5"
  }
 },
 "nbformat": 4,
 "nbformat_minor": 2
}
